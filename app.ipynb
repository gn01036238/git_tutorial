{
 "cells": [
  {
   "cell_type": "code",
   "execution_count": 1,
   "metadata": {},
   "outputs": [],
   "source": [
    "from flask import Flask, escape, request\n",
    "\n",
    "app = Flask(__name__)\n",
    "\n",
    "@app.route('/')\n",
    "def hello():\n",
    "    name = request.args.get(\"name\", \"World\")\n",
    "    return f'Hello, {escape(name)}!'"
   ]
  },
  {
   "cell_type": "code",
   "execution_count": 2,
   "metadata": {},
   "outputs": [
    {
     "name": "stdout",
     "output_type": "stream",
     "text": [
      " * Serving Flask app \"__main__\" (lazy loading)\n",
      " * Environment: production\n",
      "   WARNING: This is a development server. Do not use it in a production deployment.\n",
      "   Use a production WSGI server instead.\n",
      " * Debug mode: off\n"
     ]
    },
    {
     "name": "stderr",
     "output_type": "stream",
     "text": [
      " * Running on http://127.0.0.1:5000/ (Press CTRL+C to quit)\n",
      "127.0.0.1 - - [04/Sep/2019 09:38:33] \"\u001b[37mGET / HTTP/1.1\u001b[0m\" 200 -\n"
     ]
    }
   ],
   "source": [
    "#app.run()"
   ]
  },
  {
   "cell_type": "code",
   "execution_count": null,
   "metadata": {},
   "outputs": [],
   "source": [
    "'''\n",
    "\n",
    "Application 運行（heroku版）\n",
    "\n",
    "'''\n",
    "\n",
    "import os\n",
    "if __name__ == \"__main__\":\n",
    "    app.run(host='0.0.0.0',port=os.environ['PORT'])"
   ]
  },
  {
   "cell_type": "code",
   "execution_count": 2,
   "metadata": {},
   "outputs": [],
   "source": [
    "# '''\n",
    "# 當用戶輸入文字的時候，回應用戶文字消息\n",
    "# '''\n",
    "# from linebot.models import MessageEvent,TextMessage,TextSendMessage\n",
    "# @handler.add(MessageEvent, message = TextMessage)\n",
    "# def handle_text_message(event):\n",
    "#     line_bot_api.reply_message(\n",
    "#         event.reply_token,\n",
    "#         TextSendMessage(\"謝謝\")\n",
    "#     )"
   ]
  },
  {
   "cell_type": "code",
   "execution_count": 3,
   "metadata": {},
   "outputs": [],
   "source": [
    "# '''\n",
    "# 當用戶傳入圖片的時候，下載圖片，以OPENCV改圖，傳回用戶，存在本地\n",
    "# '''\n",
    "# import cv2\n",
    "# import numpy as np\n",
    "# from linebot.models import MessageEvent,TextMessage,TextSendMessage,ImageMessage,ImageSendMessage\n",
    "# @handler.add(MessageEvent, message=ImageMessage)\n",
    "# def handle_message(event):        \n",
    "#     message_content = line_bot_api.get_message_content(event.message.id)\n",
    "#     path = './images-HW/'+event.message.id+'.jpg'\n",
    "#     with open(path, 'wb') as fd:        \n",
    "#         for chunk in message_content.iter_content():\n",
    "#             fd.write(chunk)\n",
    "#     intense = cv2.imread('./images-HW/Intense_Effect.jpg',-1)\n",
    "#     img = cv2.imread(path,-1)\n",
    "#     resized_img = cv2.resize(img,(1280,720))\n",
    "#     intensified = cv2.add(resized_img,intense)\n",
    "#     cv2.imwrite('./images-HW/Intensified_'+event.message.id+'.jpg',intensified,[cv2.IMWRITE_JPEG_QUALITY, 100])\n",
    "#     line_bot_api.reply_message(\n",
    "#         event.reply_token,\n",
    "#         [\n",
    "#             TextSendMessage(text='收到圖片啦，我要改圖囉。\\n'+ '圖片ID:' + event.message.id),\n",
    "#             ImageSendMessage(\n",
    "#                 original_content_url='https://%s/images-HW/Intensified_%s.jpg' % (server_url,event.message.id),\n",
    "#                 preview_image_url='https://%s/images-HW/Intensified_%s.jpg' % (server_url,event.message.id)\n",
    "#             )\n",
    "#         ]\n",
    "#     )"
   ]
  },
  {
   "cell_type": "code",
   "execution_count": null,
   "metadata": {},
   "outputs": [
    {
     "name": "stdout",
     "output_type": "stream",
     "text": [
      " * Serving Flask app \"__main__\" (lazy loading)\n",
      " * Environment: production\n",
      "   WARNING: This is a development server. Do not use it in a production deployment.\n",
      "   Use a production WSGI server instead.\n",
      " * Debug mode: off\n"
     ]
    },
    {
     "name": "stderr",
     "output_type": "stream",
     "text": [
      " * Running on http://127.0.0.1:5000/ (Press CTRL+C to quit)\n",
      "127.0.0.1 - - [04/Sep/2019 08:49:02] \"\u001b[1m\u001b[31mGET / HTTP/1.1\u001b[0m\" 405 -\n",
      "127.0.0.1 - - [04/Sep/2019 08:49:02] \"\u001b[33mGET /favicon.ico HTTP/1.1\u001b[0m\" 404 -\n",
      "127.0.0.1 - - [04/Sep/2019 08:49:06] \"\u001b[37mGET /cxcxc HTTP/1.1\u001b[0m\" 200 -\n",
      "127.0.0.1 - - [04/Sep/2019 08:50:29] \"\u001b[37mPOST / HTTP/1.1\u001b[0m\" 200 -\n",
      "127.0.0.1 - - [04/Sep/2019 08:50:30] \"\u001b[37mGET /images-HW/Intensified_10508329105783.jpg HTTP/1.1\u001b[0m\" 200 -\n",
      "127.0.0.1 - - [04/Sep/2019 08:50:32] \"\u001b[37mGET /images-HW/Intensified_10508329105783.jpg HTTP/1.1\u001b[0m\" 200 -\n",
      "127.0.0.1 - - [04/Sep/2019 08:50:48] \"\u001b[37mGET /images-HW/Intensified_10508329105783.jpg HTTP/1.1\u001b[0m\" 200 -\n",
      "127.0.0.1 - - [04/Sep/2019 08:51:46] \"\u001b[37mPOST / HTTP/1.1\u001b[0m\" 200 -\n",
      "127.0.0.1 - - [04/Sep/2019 08:51:48] \"\u001b[37mGET /images-HW/Intensified_10508333830777.jpg HTTP/1.1\u001b[0m\" 200 -\n",
      "127.0.0.1 - - [04/Sep/2019 08:51:48] \"\u001b[37mGET /images-HW/Intensified_10508333830777.jpg HTTP/1.1\u001b[0m\" 200 -\n",
      "127.0.0.1 - - [04/Sep/2019 08:51:48] \"\u001b[37mGET /images-HW/Intensified_10508333830777.jpg HTTP/1.1\u001b[0m\" 200 -\n",
      "127.0.0.1 - - [04/Sep/2019 08:51:53] \"\u001b[37mGET /images-HW/Intensified_10508329105783.jpg HTTP/1.1\u001b[0m\" 200 -\n",
      "127.0.0.1 - - [04/Sep/2019 08:51:57] \"\u001b[37mGET /images-HW/Intensified_10508333830777.jpg HTTP/1.1\u001b[0m\" 200 -\n",
      "127.0.0.1 - - [04/Sep/2019 08:52:01] \"\u001b[37mGET /images-HW/Intensified_10508333830777.jpg HTTP/1.1\u001b[0m\" 200 -\n"
     ]
    }
   ],
   "source": [
    "app.run()"
   ]
  },
  {
   "cell_type": "code",
   "execution_count": null,
   "metadata": {},
   "outputs": [],
   "source": []
  }
 ],
 "metadata": {
  "kernelspec": {
   "display_name": "Python 3",
   "language": "python",
   "name": "python3"
  },
  "language_info": {
   "codemirror_mode": {
    "name": "ipython",
    "version": 3
   },
   "file_extension": ".py",
   "mimetype": "text/x-python",
   "name": "python",
   "nbconvert_exporter": "python",
   "pygments_lexer": "ipython3",
   "version": "3.7.3"
  }
 },
 "nbformat": 4,
 "nbformat_minor": 2
}
